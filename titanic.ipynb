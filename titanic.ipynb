{
 "cells": [
  {
   "cell_type": "code",
   "execution_count": 4,
   "id": "38c87e06",
   "metadata": {
    "scrolled": true
   },
   "outputs": [
    {
     "name": "stdout",
     "output_type": "stream",
     "text": [
      "(7, 1)\n",
      "(7, 1) (7, 1)n epoch no :  999 190 291 389487 582 679 776 870\n"
     ]
    },
    {
     "data": {
      "text/plain": [
       "0.6256983240223464"
      ]
     },
     "execution_count": 4,
     "metadata": {},
     "output_type": "execute_result"
    }
   ],
   "source": [
    "import numpy as np\n",
    "import pandas as pd\n",
    "from sklearn.model_selection import train_test_split\n",
    "def sigmoid(x):\n",
    "    return 1/(1 + np.exp(-x))\n",
    "def hypothesis(X, theta):\n",
    "    return 1/(1 + np.exp(-(np.dot(X, theta))))\n",
    "def cost(X, Y, theta):\n",
    "    \n",
    "    y_p = hypothesis(X, theta)\n",
    "    \n",
    "    loss = -1*(np.mean(Y*np.log(y_p) + (1- Y)*np.log(1 - y_p)))  # BINARY CROSS ENTROPY LOSS\n",
    "    \n",
    "    return loss\n",
    "def gradient(X, Y, theta):\n",
    "    \n",
    "    y_p = hypothesis(X, theta)\n",
    "    \n",
    "    grad = np.dot(X.T , (Y - y_p))\n",
    "    \n",
    "    return grad/X.shape[0]\n",
    "def gradient_descent(X, Y, learning_rate = 0.3, epochs = 100):\n",
    "    \n",
    "    m,n = X.shape\n",
    "    \n",
    "    theta = np.zeros((n , 1))\n",
    "    print(theta.shape)\n",
    "    cost_epoch = []\n",
    "    \n",
    "    for i in range(epochs):\n",
    "        \n",
    "        print('The algo is on epoch no : ',i, end = '\\r')\n",
    "        \n",
    "        loss = cost(X, Y, theta)\n",
    "        \n",
    "        grad = gradient(X, Y, theta)\n",
    "        \n",
    "        cost_epoch.append(loss)\n",
    "        \n",
    "        theta = theta + learning_rate*grad\n",
    "        \n",
    "    print(grad.shape, theta.shape)\n",
    "    return theta, cost_epoch    \n",
    "def predict(X, theta):\n",
    "    \n",
    "    y_p = hypothesis(X, theta)\n",
    "    \n",
    "    y_pred = []\n",
    "\n",
    "    for i in y_p:\n",
    "        \n",
    "        if i >= 0.5:\n",
    "            y_pred.append(1)\n",
    "            \n",
    "        else:\n",
    "            y_pred.append(0)\n",
    "    y_pred = np.array(y_pred)        \n",
    "    \n",
    "    return y_pred\n",
    "df=pd.read_csv(\"titanic_dataset.csv\")\n",
    "df['Age']=df['Age'].fillna(df['Age'].mean())\n",
    "df['Embarked']=df['Embarked'].fillna(\"S\")\n",
    "df[\"Male\"]=pd.get_dummies(df['Sex'])[\"male\"]\n",
    "df[\"Male\"]=df[\"Male\"].map({True:0,False:1})\n",
    "df[\"Embarked\"]=df[\"Embarked\"].map({\"S\":0,\"C\":1,\"Q\":2})\n",
    "df= df.drop(columns=\"Sex\")\n",
    "df['Age'] = df[\"Age\"].astype('int64')\n",
    "df['Fare'] = df[\"Fare\"].astype('int64')\n",
    "df= df.drop(columns=[\"Name\",\"Cabin\",\"Ticket\",\"PassengerId\"])\n",
    "X= df.drop(columns=\"Survived\")\n",
    "Y=df[\"Survived\"]\n",
    "X1,X2,Y1,Y2 = train_test_split(X,Y,test_size=0.2)\n",
    "Y1 = Y1.values.reshape((-1,1))\n",
    "theta, cost = gradient_descent(X1, Y1, learning_rate=0.003,epochs = 1000)\n",
    "preds=predict(X2,theta)\n",
    "from sklearn.metrics import accuracy_score\n",
    "accuracy_score(preds,Y2)\n"
   ]
  },
  {
   "cell_type": "code",
   "execution_count": null,
   "id": "6e7de276",
   "metadata": {},
   "outputs": [],
   "source": []
  }
 ],
 "metadata": {
  "kernelspec": {
   "display_name": "Python 3 (ipykernel)",
   "language": "python",
   "name": "python3"
  },
  "language_info": {
   "codemirror_mode": {
    "name": "ipython",
    "version": 3
   },
   "file_extension": ".py",
   "mimetype": "text/x-python",
   "name": "python",
   "nbconvert_exporter": "python",
   "pygments_lexer": "ipython3",
   "version": "3.9.12"
  }
 },
 "nbformat": 4,
 "nbformat_minor": 5
}
